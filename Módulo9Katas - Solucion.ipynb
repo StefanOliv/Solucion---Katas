{
  "cells": [
    {
      "cell_type": "markdown",
      "metadata": {},
      "source": [
        "# Ejercicio: Uso de funciones en Python"
      ]
    },
    {
      "cell_type": "markdown",
      "metadata": {},
      "source": [
        "### Ejercicio 1: Trabajar con argumentos en funciones\n",
        "\n",
        "Los argumentos requeridos en las funciones se utilizan cuando las funciones necesitan que esos argumentos funcionen correctamente. En este ejercicio, construirás un informe de combustible que requiere información de varias ubicaciones de combustible en todo el cohete.\n",
        "\n"
      ]
    },
    {
      "cell_type": "markdown",
      "metadata": {},
      "source": [
        "> **TIP**\n",
        "> Dedica unos minutos para tratar de encontrar una solución. Luego desplázate hacia abajo hasta la parte inferior para ver si has logrado compilar el programa de acuerdo con las especificaciones\n",
        "\n",
        "Comienza por crear una función que necesite tres lecturas de combustible y devuelva un informe:"
      ]
    },
    {
      "cell_type": "code",
      "execution_count": 3,
      "metadata": {},
      "outputs": [],
      "source": [
        "# Función para leer 3 tanques de combustible y muestre el promedio\n",
        "def reporte(tanque1Princ, tanque2Secun, tanque3Terce):\n",
        "    promeCombus = (tanque1Princ + tanque2Secun + tanque3Terce) / 3\n",
        "    return f\"\"\"Reporte (Combustible):\n",
        "    Promedio de combistible: {promeCombus}%\n",
        "    Tanque Principal: {tanque1Princ}%\n",
        "    Tanque Secundario: {tanque2Secun}%\n",
        "    Tanque Respaldo: {tanque3Terce}% \n",
        "    \"\"\""
      ]
    },
    {
      "cell_type": "markdown",
      "metadata": {},
      "source": [
        "Ahora que hemos definido la función de informes, vamos a comprobarlo. Para esta misión, los tanques no están llenos:"
      ]
    },
    {
      "cell_type": "code",
      "execution_count": 5,
      "metadata": {},
      "outputs": [
        {
          "name": "stdout",
          "output_type": "stream",
          "text": [
            "Reporte (Combustible):\n",
            "    Promedio de combistible: 64.0%\n",
            "    Tanque Principal: 65%\n",
            "    Tanque Secundario: 27%\n",
            "    Tanque Respaldo: 100% \n",
            "    \n"
          ]
        }
      ],
      "source": [
        "\n",
        "# Llamamos a la función que genera el reporte print(funcion(tanque1, tanque2, tanque3))\n",
        "print(reporte (65, 27, 100))"
      ]
    },
    {
      "cell_type": "markdown",
      "metadata": {},
      "source": [
        "En lugar de simplemente crear el informe, la función también está calculando el promedio. Mejora la legibilidad extrayendo el cálculo promedio de la función en una nueva función para que el promedio se pueda hacer de forma independiente:"
      ]
    },
    {
      "cell_type": "code",
      "execution_count": 20,
      "metadata": {},
      "outputs": [],
      "source": [
        "# Función promedio\n",
        "def reporte (tanque1Princ, tanque2Secun, tanque3Terce):\n",
        "    promedio = (tanque1Princ + tanque2Secun + tanque3Terce)/3\n",
        "    print(reporte (65,27,60)) "
      ]
    },
    {
      "cell_type": "markdown",
      "metadata": {},
      "source": [
        "Ahora actualiza la función de informes para llamando a la nueva función del promedio:\n"
      ]
    },
    {
      "cell_type": "code",
      "execution_count": 24,
      "metadata": {},
      "outputs": [
        {
          "name": "stdout",
          "output_type": "stream",
          "text": [
            " Reporte de consumo de combustible:\n",
            "    Total de combustible: 64.0\n",
            "    Tanque 1: 65\n",
            "    Tanque 2: 27\n",
            "    Tanque 3: 100 \n",
            "    \n"
          ]
        }
      ],
      "source": [
        "# Actualiza la función\n",
        "def reporte(tanque1Princ, tanque2Secun, tanque3Terce):\n",
        "    promedio = (tanque1Princ + tanque2Secun + tanque3Terce)/3 \n",
        "    return f\"\"\" Reporte de consumo de combustible:\n",
        "    Total de combustible: {promedio}\n",
        "    Tanque 1: {tanque1Princ}\n",
        "    Tanque 2: {tanque2Secun}\n",
        "    Tanque 3: {tanque3Terce} \n",
        "    \"\"\"   \n",
        "print(reporte (65, 27, 100))"
      ]
    },
    {
      "cell_type": "markdown",
      "metadata": {},
      "source": [
        "> Recuerda: Lo importante es intentarlo, puedes auxiliarte de internet, libros, etc. El objetivo de una kata es la comprobación de la comprensión de la lección y su aplicación inmediata a la resolución de problemas. Go for it!"
      ]
    },
    {
      "cell_type": "markdown",
      "metadata": {},
      "source": [
        "## Ejercicio 2: Trabajo con argumentos de palabra clave"
      ]
    },
    {
      "cell_type": "markdown",
      "metadata": {},
      "source": [
        "### Ejercicio : Trabajar con argumentos de palabras clave en funciones\n",
        "En este ejercicio, construirás un informe de cohete que requiere varias piezas de información, como el tiempo hasta el destino, el combustible a la izquierda y el nombre del destino. Comienza por crear una función que creará un informe preciso de la misión:"
      ]
    },
    {
      "cell_type": "code",
      "execution_count": 27,
      "metadata": {},
      "outputs": [
        {
          "name": "stdout",
          "output_type": "stream",
          "text": [
            "\n",
            "    Mision a Venus\n",
            "    Tiempo de vuelo: 65 minutos\n",
            "    Combustible: 160 \n",
            "    \n"
          ]
        }
      ],
      "source": [
        "# Función con un informe preciso de la misión. Considera hora de prelanzamiento, tiempo de vuelo, destino, tanque externo y tanque interno\n",
        "def Reporte (prelanzamiento, tiempoenVuelo, destinoFinal ,tanque_inter, tanque_exter):\n",
        "    return f\"\"\"\n",
        "    Mision a {destinoFinal}\n",
        "    Tiempo de vuelo: {tiempoenVuelo + prelanzamiento} minutos\n",
        "    Combustible: {tanque_inter + tanque_exter} \n",
        "    \"\"\"\n",
        "print(Reporte(20, 45, \"Venus\", 100, 60))\n"
      ]
    },
    {
      "cell_type": "markdown",
      "metadata": {},
      "source": [
        "La función es problemática porque no se puede adaptar para minutos adicionales o tanques adicionales de combustible. Hazlo más flexible permitiendo cualquier número de pasos basados en el tiempo y cualquier número de tanques. En lugar de usar `*args` y `**kwargs`, aprovecha el hecho de que puedes usar cualquier nombre que desees. Asegurate que la función sea más legible mediante el uso de nombres de variables que están asociados con las entradas, como `*minutes` y `**fuel_reservoirs`:"
      ]
    },
    {
      "cell_type": "code",
      "execution_count": 33,
      "metadata": {},
      "outputs": [
        {
          "name": "stdout",
          "output_type": "stream",
          "text": [
            "\n",
            "    Destino de la mision: Marte\n",
            "    Tiempo total de vuelo: 169 minutes\n",
            "    Total de combustible: 175\n",
            "    \n"
          ]
        }
      ],
      "source": [
        "# Escribe tu nueva función de reporte considerando lo anterior\n",
        "def reporte2(destino, *minutos, **deposito):\n",
        "    return f\"\"\"\n",
        "    Destino de la mision: {destino}\n",
        "    Tiempo total de vuelo: {sum(minutos)} minutes\n",
        "    Total de combustible: {sum(deposito.values())}\n",
        "    \"\"\"\n",
        "print(reporte2(\"Marte\", 69, 20, 80, tanquePrin=85, tanqueSecu=90))"
      ]
    },
    {
      "cell_type": "markdown",
      "metadata": {},
      "source": [
        "Debido a que el combustible que queda en los tanques es específico de cada tanque, actualiza la función para usar el nombre de cada tanque en el informe:"
      ]
    },
    {
      "cell_type": "code",
      "execution_count": 41,
      "metadata": {},
      "outputs": [
        {
          "name": "stdout",
          "output_type": "stream",
          "text": [
            "\n",
            "    Destino de la mision: Marte\n",
            "    Tiempo total de vuelo: 74 minutes\n",
            "    Total de combustible: 175\n",
            "    tanquePrin en este caso el tanque contiene: 85 galones restantes\n",
            "tanqueSecu en este caso el tanque contiene: 90 galones restantes\n",
            "\n"
          ]
        }
      ],
      "source": [
        "# Escribe tu nueva función\n",
        "def reporte3(destino, *minutos, **deposito):\n",
        "    Reporte_final = f\"\"\"\n",
        "    Destino de la mision: {destino}\n",
        "    Tiempo total de vuelo: {sum(minutos)} minutes\n",
        "    Total de combustible: {sum(deposito.values())}\n",
        "    \"\"\"\n",
        "    for tank_name, gallons in deposito.items():\n",
        "        Reporte_final += f\"{tank_name} en este caso el tanque contiene: {gallons} galones restantes\\n\"\n",
        "    return Reporte_final\n",
        "\n",
        "print(reporte3(\"Marte\", 8, 11, 55, tanquePrin=85, tanqueSecu=90))"
      ]
    }
  ],
  "metadata": {
    "interpreter": {
      "hash": "205095b8b86ea82a021a8fc2ffba2b3bc9f8d0be25999901963b225939f75778"
    },
    "kernelspec": {
      "display_name": "Python 3.8.10 64-bit ('tmp': conda)",
      "name": "python3"
    },
    "language_info": {
      "codemirror_mode": {
        "name": "ipython",
        "version": 3
      },
      "file_extension": ".py",
      "mimetype": "text/x-python",
      "name": "python",
      "nbconvert_exporter": "python",
      "pygments_lexer": "ipython3",
      "version": "3.10.2"
    },
    "nteract": {
      "version": "nteract-front-end@1.0.0"
    },
    "orig_nbformat": 4
  },
  "nbformat": 4,
  "nbformat_minor": 2
}
