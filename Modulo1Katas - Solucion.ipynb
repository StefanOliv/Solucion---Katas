{
  "cells": [
    {
      "cell_type": "markdown",
      "metadata": {},
      "source": [
        "# Tu primer programa\n",
        "Para crear este programa, deberás utilizar los conceptos que aprendiste en el último módulo. Usarás Jupyter Notebook en este ejercicio, que es una combinación de texto y código con la que puede interactuar. Finaliza el código siguiente para que el resultado muestre la fecha de hoy."
      ]
    },
    {
      "cell_type": "code",
      "execution_count": 19,
      "metadata": {},
      "outputs": [
        {
          "name": "stdout",
          "output_type": "stream",
          "text": [
            "La fecha de hoy es: \n",
            "2022-02-18\n",
            "\n",
            "La fecha de hoy es: 2022-02-18\n"
          ]
        }
      ],
      "source": [
        "\"\"\"Importacion del \"\"\"\n",
        "from datetime import date\n",
        "\"\"\"Colocando la fecha en una variable con el nombre de date\"\"\"\n",
        "date = date.today ()\n",
        "\n",
        "\"\"\"Imprecion en pantalla del resultado: \"\"\"\n",
        "\"\"\"Primera forma\"\"\"\n",
        "print(\"La fecha de hoy es: \") \n",
        "print (date)\n",
        "\n",
        "\"\"\"Segunda forma\"\"\"\n",
        "print( \"\\nLa fecha de hoy es: \" + str(date)) "
      ]
    },
    {
      "cell_type": "markdown",
      "metadata": {},
      "source": [
        "## Construir un convertidor de unidades\n",
        "El oficial superior> \"Necesito una cosa más: un programa de conversión entre parsecs y años luz. Tener un programa de este tipo podría ser realmente útil en el puente para trazar nuestro curso\".\n",
        "Tú> \"¡Lo haré!\"\n"
      ]
    },
    {
      "cell_type": "code",
      "execution_count": 18,
      "metadata": {},
      "outputs": [
        {
          "name": "stdout",
          "output_type": "stream",
          "text": [
            "11 parsec, is 35.877159999999996 lightyears\n"
          ]
        }
      ],
      "source": [
        "\"\"\"Cantidada de parsec\"\"\"\n",
        "parsec = 11\n",
        "\n",
        "\"\"\"Cambio respectivo de parsec a lyghtyears\"\"\"\n",
        "lightyears = parsec * 3.26156\n",
        "\n",
        "\"\"\"Impresion del resultado\"\"\"\n",
        "print(str(parsec) + \" parsec, is \" + str(lightyears) + \" lightyears\")"
      ]
    }
  ],
  "metadata": {
    "interpreter": {
      "hash": "0b4dbcdfe844c67ef1d13f27d10ddaffff72da0007f864388b17fc4529f7934a"
    },
    "kernel_info": {
      "name": "conda-env-py37_default-py"
    },
    "kernelspec": {
      "display_name": "py37_default",
      "language": "python",
      "name": "python3"
    },
    "language_info": {
      "codemirror_mode": {
        "name": "ipython",
        "version": 3
      },
      "file_extension": ".py",
      "mimetype": "text/x-python",
      "name": "python",
      "nbconvert_exporter": "python",
      "pygments_lexer": "ipython3",
      "version": "3.10.2"
    },
    "nteract": {
      "version": "nteract-front-end@1.0.0"
    },
    "orig_nbformat": 4
  },
  "nbformat": 4,
  "nbformat_minor": 2
}
